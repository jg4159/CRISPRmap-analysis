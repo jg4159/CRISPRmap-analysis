{
 "cells": [
  {
   "cell_type": "code",
   "execution_count": 1,
   "id": "447a35d8",
   "metadata": {},
   "outputs": [],
   "source": [
    "# Basic utilities\n",
    "import re\n",
    "import glob\n",
    "import sys\n",
    "from datetime import date\n",
    "from copy import deepcopy\n",
    "from skimage.exposure import rescale_intensity\n",
    "import matplotlib.pyplot as plt\n",
    "\n",
    "# Data wrangling packages\n",
    "import numpy as np\n",
    "from scipy import stats\n",
    "from skimage.filters import threshold_yen\n",
    "\n",
    "# Cellpose - the current belle of the ball\n",
    "from cellpose import models, io\n",
    "\n",
    "# Grab utilities from the imaging directories dir\n",
    "utilsDir = re.sub(r'Cell Segmentation', 'Imaging Utilities', str(sys.path[0]))\n",
    "\n",
    "# Homebrew utilities for importing ims files & basic image manipulation\n",
    "sys.path.append(utilsDir)\n",
    "import ims_file_utils as ims\n",
    "import image_processing_utils as impro\n",
    "from skimage.segmentation import find_boundaries\n",
    "\n",
    "from matplotlib.backends.backend_pdf import PdfPages\n",
    "import numpy as np\n",
    "import scipy.ndimage as ndimage\n",
    "import matplotlib.pyplot as plt\n",
    "from skimage import io\n",
    "import glob\n",
    "from math import sqrt\n",
    "import pickle as pkl\n",
    "import os, psutil\n",
    "process = psutil.Process(os.getpid())\n",
    "# Grab utilities from the imaging directories dir\n",
    "utilsDir = re.sub(r'Registration', 'Imaging Utilities', str(sys.path[0]))\n",
    "# Homebrew utilities for importing ims files & basic image manipulation\n",
    "sys.path.append(utilsDir)\n",
    "from functools import reduce\n",
    "from scipy.spatial.distance import cdist, pdist\n",
    "from skimage.exposure import rescale_intensity\n",
    "from skimage.segmentation import find_boundaries\n",
    "\n",
    "def spotcall(img, min_sig, max_sig, nsig, th):\n",
    "    blobs_log = blob_log(img, min_sigma=min_sig, max_sigma=max_sig, num_sigma=nsig, threshold=th)\n",
    "    # Compute radii in the 3rd column.\n",
    "    blobs_log[:, 2] = blobs_log[:, 2] * sqrt(2)\n",
    "    color = 'lime'\n",
    "    title = 'Laplacian of Gaussian'\n",
    "    #plt.rcParams['figure.figsize'] = [20, 15]\n",
    "    #fig, ax = plt.subplots(1, 1, sharex=True, sharey=True)\n",
    "    #ax.set_title(title)\n",
    "    #ax.imshow(img)\n",
    "    #for blob in blobs_log:\n",
    "    #    y, x, r = blob\n",
    "    #    c = plt.Circle((x, y), r, color=color, linewidth=2, fill=False)\n",
    "    #    ax.add_patch(c)\n",
    "    #ax.set_axis_off()\n",
    "    #plt.tight_layout()\n",
    "    #plt.show()\n",
    "    return blobs_log\n",
    "\n",
    "def numpyToList(points):\n",
    "    # Takes a tuple of per-axis coordinates and converts it to a list of tuples\n",
    "    outList = list()\n",
    "    for i in range(len(points[0])):\n",
    "        point = list()\n",
    "        for axis in points:\n",
    "            point.append(axis[i])\n",
    "        outList.append(tuple(point))\n",
    "    return(outList)\n",
    "\n",
    "def fociDetection(image, masks_nuc, name, outFile):\n",
    "    # Use laplacian of gaussian to detect blobs\n",
    "    spots = spotcall(image,min_sig=0.05, max_sig=1,nsig=3,th=0.5) # Decrease threshold if spots are not identified and min sigma if spots are smaller\n",
    "    spots = np.unique(spots, axis=0)\n",
    "    print(\"Num \" + name + \" foci detected:\", len(spots))\n",
    "\n",
    "    # save spot coordinates\n",
    "    with open(outFile + '_' + name + '_' + str(len(spots)) + '.pkl', 'wb') as filehandler:\n",
    "        pkl.dump(spots, filehandler)\n",
    "        \n",
    "    return(spots)"
   ]
  },
  {
   "cell_type": "markdown",
   "id": "d7893852",
   "metadata": {},
   "source": [
    "# 1. Import registered antibody staining images"
   ]
  },
  {
   "cell_type": "code",
   "execution_count": 3,
   "id": "971aad4e",
   "metadata": {},
   "outputs": [
    {
     "name": "stdout",
     "output_type": "stream",
     "text": [
      "{'data_url': 'A1_1'}\n"
     ]
    }
   ],
   "source": [
    "config = {\n",
    "        \"data_url\" : \"A1_1\",\n",
    "    }\n",
    "print(config)"
   ]
  },
  {
   "cell_type": "code",
   "execution_count": 4,
   "id": "265bd368",
   "metadata": {},
   "outputs": [
    {
     "name": "stdout",
     "output_type": "stream",
     "text": [
      "/mnt/disks/external/jg4159/20221215_DDR364xDrugs/RegisteredImages_Ab_A1_1.pickle\n",
      "/mnt/disks/external/jg4159/20221215_DDR364xDrugs/Unfiltered_segmentation_2D_A1_1.pickle\n",
      "A1_1\n"
     ]
    }
   ],
   "source": [
    "runName = config['data_url']\n",
    "opdir = '/mnt/disks/external/jg4159/20221215_DDR364xDrugs/' # Path to output\n",
    "ip = opdir + \"RegisteredImages_Ab_\" + runName + \".pickle\"\n",
    "mk = opdir + \"Unfiltered_segmentation_2D_\"+ runName +\".pickle\"\n",
    "print(ip)\n",
    "print(mk)\n",
    "print(runName)"
   ]
  },
  {
   "cell_type": "code",
   "execution_count": 5,
   "id": "5006fc6d",
   "metadata": {},
   "outputs": [
    {
     "name": "stdout",
     "output_type": "stream",
     "text": [
      "25124\n"
     ]
    }
   ],
   "source": [
    "import glob\n",
    "#Loading ims files for different cycles\n",
    "lof = glob.glob(mk)\n",
    "filehandler = open(lof[0], 'rb')\n",
    "masks_mem, masks_nuc, ref_mem = pkl.load(filehandler) # import segmentation\n",
    "print(len(ref_mem))\n",
    "filehandler.close()"
   ]
  },
  {
   "cell_type": "code",
   "execution_count": 6,
   "id": "1cdfe46f",
   "metadata": {},
   "outputs": [
    {
     "name": "stdout",
     "output_type": "stream",
     "text": [
      "[114. 127.]\n",
      "[163. 216.]\n",
      "[105. 121.]\n",
      "[123. 140.]\n",
      "[579. 772.]\n",
      "[108. 112.]\n",
      "[105. 106.]\n",
      "[125. 149.]\n",
      "[124. 159.]\n",
      "[587. 782.]\n",
      "[105. 107.]\n",
      "[108. 111.]\n",
      "[112. 117.]\n",
      "[126. 135.]\n",
      "[702. 933.]\n"
     ]
    }
   ],
   "source": [
    "# rescaling\n",
    "filehandler = open(ip, 'rb')\n",
    "img_stack = pkl.load(filehandler)\n",
    "filehandler.close()\n",
    "\n",
    "for img in img_stack[1:]:\n",
    "    for i in range(img.shape[0]):\n",
    "        img[i] *= 65535\n",
    "        img[i] = img[i].astype(np.uint16)\n",
    "        m = np.median(img[i][img[i] > 0])\n",
    "        print(np.percentile(img[i], (97.5, 99.8)))"
   ]
  },
  {
   "cell_type": "markdown",
   "id": "6046210e",
   "metadata": {},
   "source": [
    "# 2. DDR foci detection"
   ]
  },
  {
   "cell_type": "code",
   "execution_count": 8,
   "id": "6fb7eca0",
   "metadata": {},
   "outputs": [],
   "source": [
    "#Ab0\n",
    "EPCAM_p2 = 101\n",
    "EPCAM_p98 = 120\n",
    "EPCAM = rescale_intensity(img_stack[0][0], (EPCAM_p2, EPCAM_p98), (0, 255))\n",
    "\n",
    "rad_p2 = 118\n",
    "rad_p98 = 140\n",
    "rad = rescale_intensity(img_stack[0][1], (rad_p2, rad_p98), (0, 255))\n",
    "\n",
    "yH2AX_p2 = 114\n",
    "yH2AX_p98 = 140\n",
    "yH2AX = rescale_intensity(img_stack[0][2], (yH2AX_p2, yH2AX_p98), (0, 255))\n",
    "\n",
    "RPA2_p2 = 114\n",
    "RPA2_p98 = 140\n",
    "RPA2 = rescale_intensity(img_stack[0][3], (RPA2_p2, RPA2_p98), (0, 255))\n"
   ]
  },
  {
   "cell_type": "code",
   "execution_count": 9,
   "id": "f386724f",
   "metadata": {},
   "outputs": [],
   "source": [
    "# # Sanity check for thresholding\n",
    "# plt.rcParams['figure.figsize'] = [15*2, 15*15]\n",
    "# f, axarr = plt.subplots(15,2)\n",
    "# for i in range(3):\n",
    "#     for j in range(8):\n",
    "#         axarr[j][i].imshow(gamstack[3*j+i][500:1500,500:1500], cmap='gray')"
   ]
  },
  {
   "cell_type": "code",
   "execution_count": 11,
   "id": "42c3f7fe",
   "metadata": {},
   "outputs": [
    {
     "name": "stdout",
     "output_type": "stream",
     "text": [
      "Num RAD51 foci detected: 68914\n",
      "Num yH2AX foci detected: 81454\n",
      "Num RPA2 foci detected: 55606\n",
      "--- Foci Detection: 110.18772053718567 seconds\n"
     ]
    }
   ],
   "source": [
    "start_time = time.time()\n",
    "filename = opdir + runName + '_all_spots_'\n",
    "rad51_spots = fociDetection(rad, masks_nuc, 'RAD51', filename + str(rad_p2) + '_' + str(rad_p98))\n",
    "yh2ax_spots = fociDetection(yH2AX, masks_nuc, 'yH2AX', filename + str(yH2AX_p2) + '_' + str(yH2AX_p98))\n",
    "rpa2_spots = fociDetection(RPA2, masks_nuc, 'RPA2', filename + str(RPA2_p2) + '_' + str(RPA2_p98))\n",
    "print(f'--- Foci Detection: {(time.time()-start_time)} seconds')"
   ]
  },
  {
   "cell_type": "markdown",
   "id": "191901ad",
   "metadata": {},
   "source": [
    "# 3. Assign foci to cell masks"
   ]
  },
  {
   "cell_type": "code",
   "execution_count": 12,
   "id": "6050e847",
   "metadata": {},
   "outputs": [
    {
     "name": "stdout",
     "output_type": "stream",
     "text": [
      "0\n",
      "1000\n",
      "2000\n",
      "3000\n",
      "4000\n",
      "5000\n",
      "6000\n",
      "7000\n",
      "8000\n",
      "9000\n",
      "10000\n",
      "11000\n",
      "12000\n",
      "13000\n",
      "14000\n",
      "15000\n",
      "16000\n",
      "17000\n",
      "18000\n",
      "19000\n",
      "20000\n",
      "21000\n",
      "22000\n",
      "23000\n",
      "24000\n",
      "25000\n",
      "--- Foci Assignment: 7.1920318603515625 seconds\n"
     ]
    }
   ],
   "source": [
    "start_time = time.time()\n",
    "# Strip the z axis off the detected foci coords and convert to integers\n",
    "detectedFoci = [rad51_spots[:,0:2].astype('uint16'),\n",
    "               yh2ax_spots[:,0:2].astype('uint16'), \n",
    "                rpa2_spots[:,0:2].astype('uint16')]\n",
    "names = ('RAD51 spots', 'yH2AX spots', 'RPA2 spots')\n",
    "\n",
    "# Create a dictionary where every key is a foci coordinate, and the value is the protein\n",
    "spotMatch = {}\n",
    "for i, spots in enumerate(detectedFoci):\n",
    "    for spot in spots:\n",
    "        if spotMatch.get((spot[0], spot[1])):\n",
    "            spotMatch[(spot[0], spot[1])].append(names[i])\n",
    "        else:\n",
    "            spotMatch[(spot[0], spot[1])] = [names[i]]\n",
    "\n",
    "# For each nuclei, see which spots in the membrane are indexed in the key \n",
    "for i, cellID in enumerate(ref_mem):\n",
    "    if i %1000==0:\n",
    "        print(i)\n",
    "    for name in names:\n",
    "        ref_mem[cellID][name] = 0\n",
    "    \n",
    "    # For each Nuclei Coordinate look for a spot\n",
    "    nucCoord = numpyToList(ref_mem[cellID]['Nuclei Pixels 2D'])\n",
    "    \n",
    "    for coord in nucCoord:\n",
    "        foci = spotMatch.get(coord)\n",
    "        if foci:\n",
    "            for focus in foci:\n",
    "                ref_mem[cellID][focus] += 1\n",
    "                \n",
    "print(f'--- Foci Assignment: {(time.time()-start_time)} seconds')"
   ]
  },
  {
   "cell_type": "markdown",
   "id": "49e1145e",
   "metadata": {},
   "source": [
    "# 4. Detect micronuclei"
   ]
  },
  {
   "cell_type": "code",
   "execution_count": 13,
   "id": "974c000a",
   "metadata": {},
   "outputs": [
    {
     "name": "stdout",
     "output_type": "stream",
     "text": [
      "--- 6.035405397415161 seconds ---\n"
     ]
    }
   ],
   "source": [
    "import time\n",
    "start_time = time.time()\n",
    "for i, mem_id in enumerate(ref_mem):\n",
    "    #print(mem_id)\n",
    "    mem_pxls = ref_mem[mem_id][\"Membrane Pixels 2D\"]\n",
    "    # Get the most common membrane mask value for that location\n",
    "    nucs = masks_nuc[mem_pxls]\n",
    "    if sum(nucs)>0: #nuc present\n",
    "        nucs = nucs[nucs!=0] #non-zero nuc_ids\n",
    "        #nuc_id = stats.mode(nucs)[0][0] # pick the mode as the nuc_id\n",
    "        nuc_id = []\n",
    "        for j in np.unique(nucs):\n",
    "            #print(j)\n",
    "            nuc_id.append(j)\n",
    "        nuc_size = [len(np.where(nucs==x)[0]) for x in nuc_id]\n",
    "        nuc_id_sorted = sorted(nuc_id, reverse=True, key=lambda x: nuc_size[nuc_id.index(x)])\n",
    "        #nuc_pxls = [np.where(nucs==x)[0] for x in nuc_id_sorted]\n",
    "        #nuc_pxls_2d = [np.where(masks_nuc==x) for x in nuc_id_sorted]\n",
    "        \n",
    "        ref_mem[mem_id][\"nuc_id_sorted\"] =  nuc_id_sorted\n",
    "        #ref_mem[mem_id][\"nuc_pxls_sorted\"] = nuc_pxls\n",
    "        ref_mem[mem_id][\"small_nuc\"] = sum([x>100 for x in nuc_size])\n",
    "        #ref_mem[mem_id][\"nuc_pxls_2d\"] = nuc_pxls_2d\n",
    "        #ref_mem[mem_id][\"mem_pxls_2d\"] = np.where(masks_mem==mem_id)\n",
    "print(\"--- %s seconds ---\" % (time.time() - start_time))"
   ]
  },
  {
   "cell_type": "code",
   "execution_count": 14,
   "id": "66e4ae15",
   "metadata": {},
   "outputs": [
    {
     "name": "stdout",
     "output_type": "stream",
     "text": [
      "Foci detected: 106284\n"
     ]
    }
   ],
   "source": [
    "nuc_p2 = 105\n",
    "nuc_p98 = 225\n",
    "nuc = rescale_intensity(img_stack[0][4], (nuc_p2,nuc_p98), (0, 255)) # DAPI channel\n",
    "flat_dapi = nuc.ravel()\n",
    "masks_nuc_cropped = masks_nuc[:nuc.shape[0],:nuc.shape[1]]\n",
    "flat_nuc = masks_nuc_cropped.ravel()\n",
    "\n",
    "flat_dapi[flat_nuc>0] = 0\n",
    "# Remove cytoplamic background\n",
    "flat_dapi[flat_dapi<=120] = 0\n",
    "\n",
    "# dialate nuc masks by 1 pixel\n",
    "import cv2\n",
    "radius=2\n",
    "outl = find_boundaries(masks_nuc, connectivity=1, mode='thick', background=0)\n",
    "outl_mask = masks_nuc_cropped #Use this for outline with color scheme similar to the cell mask\n",
    "#Creating a kernel to add pixels of desired size\n",
    "kernel = cv2.getStructuringElement(cv2.MORPH_RECT, (3,3))\n",
    "#adding pixels to foreground -- will only work on binary images --- use following command to change thickness\n",
    "thick_outl = cv2.dilate(outl_mask.astype(np.uint16), kernel, iterations=radius) #Vary iterations parameter for varying thickness \n",
    "flat_dapi[thick_outl.ravel()>0] = 0\n",
    "\n",
    "# Use laplacian of gaussian to detect blobs\n",
    "spots = spotcall(nuc, min_sig=1, max_sig=5,nsig=5,th=0.5) # Decrease threshold if spots are not identified and min sigma if spots are smaller\n",
    "spots = np.unique(spots, axis=0)\n",
    "print(\"Foci detected:\", len(spots))"
   ]
  },
  {
   "cell_type": "markdown",
   "id": "88ccc790",
   "metadata": {},
   "source": [
    "# 5. Assign micronuclei to cell masks"
   ]
  },
  {
   "cell_type": "code",
   "execution_count": 15,
   "id": "6dc03f63",
   "metadata": {},
   "outputs": [
    {
     "name": "stdout",
     "output_type": "stream",
     "text": [
      "0\n",
      "1000\n",
      "2000\n",
      "3000\n",
      "4000\n",
      "5000\n",
      "6000\n",
      "7000\n",
      "8000\n",
      "9000\n",
      "10000\n",
      "11000\n",
      "12000\n",
      "13000\n",
      "14000\n",
      "15000\n",
      "16000\n",
      "17000\n",
      "18000\n",
      "19000\n",
      "20000\n",
      "21000\n",
      "22000\n",
      "23000\n",
      "24000\n",
      "25000\n",
      "--- Foci Assignment: 27.099990367889404 seconds\n"
     ]
    }
   ],
   "source": [
    "# assign micronuclei foci to cell mask\n",
    "start_time = time.time()\n",
    "# Create a dictionary where every key is a foci coordinate, and the value is the protein\n",
    "spotMatch = {}\n",
    "for spot in spots:\n",
    "    if spotMatch.get((spot[0], spot[1])):\n",
    "        spotMatch[(spot[0], spot[1])].append('micronuclei')\n",
    "    else:\n",
    "        spotMatch[(spot[0], spot[1])] = ['micronuclei']\n",
    "\n",
    "# For each nuclei, see which spots in the membrane are indexed in the key \n",
    "for i, cellID in enumerate(ref_mem):\n",
    "    if i %1000==0:\n",
    "        print(i)\n",
    "    ref_mem[cellID]['micronuclei'] = 0\n",
    "    \n",
    "    # For each Nuclei Coordinate look for a spot\n",
    "    memCoord = numpyToList(ref_mem[cellID]['Membrane Pixels 2D'])\n",
    "    \n",
    "    for coord in memCoord:\n",
    "        foci = spotMatch.get(coord)\n",
    "        if foci:\n",
    "            for focus in foci:\n",
    "                ref_mem[cellID][focus] += 1\n",
    "                \n",
    "print(f'--- Foci Assignment: {(time.time()-start_time)} seconds')"
   ]
  },
  {
   "cell_type": "markdown",
   "id": "add4bd3f",
   "metadata": {},
   "source": [
    "# 6. Output pickle & csv files"
   ]
  },
  {
   "cell_type": "code",
   "execution_count": 16,
   "id": "3273ecf1",
   "metadata": {},
   "outputs": [],
   "source": [
    "#Produce output pickle\n",
    "with open(opdir + runName + \"_segmentation_2D_foci_micronuclei\" + '.pickle', 'wb') as filehandler:\n",
    "    pkl.dump((masks_mem, masks_nuc, ref_mem), filehandler)"
   ]
  },
  {
   "cell_type": "code",
   "execution_count": null,
   "id": "9f1dc2ab",
   "metadata": {},
   "outputs": [],
   "source": [
    "data = []\n",
    "for key in ref_mem.keys(): # use keys in the saved dict\n",
    "    if True:\n",
    "        data.append([key,\n",
    "            ref_mem[key]['RAD51 spots'],\n",
    "            ref_mem[key]['yH2AX spots'],\n",
    "            ref_mem[key]['RPA2 spots'],\n",
    "            ref_mem[key]['micronuclei'],\n",
    "            len(ref_mem[key]['Nuclei Pixels']), \n",
    "            len(ref_mem[key]['Membrane Pixels'])])\n",
    "\n",
    "df2 = pd.DataFrame(data, columns=['cell_id',\n",
    "                            'RAD51_foci',\n",
    "                            'yH2AX_foci',\n",
    "                            'RPA2_foci',\n",
    "                            \"micronuclei_spots\",\n",
    "                            \"nuclei_size\", \n",
    "                            \"mem_size\"])\n",
    "\n",
    "df2 = df2.sort_values(by=\"cell_id\")\n",
    "df2.to_csv(opdir + runName+\"_foci_micronuclei_\" + str(date.today()) + '.csv', index=False)"
   ]
  }
 ],
 "metadata": {
  "kernelspec": {
   "display_name": "Python 3",
   "language": "python",
   "name": "python3"
  },
  "language_info": {
   "codemirror_mode": {
    "name": "ipython",
    "version": 3
   },
   "file_extension": ".py",
   "mimetype": "text/x-python",
   "name": "python",
   "nbconvert_exporter": "python",
   "pygments_lexer": "ipython3",
   "version": "3.7.10"
  }
 },
 "nbformat": 4,
 "nbformat_minor": 5
}
