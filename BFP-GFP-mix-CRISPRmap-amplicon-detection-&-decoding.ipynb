{
 "cells": [
  {
   "cell_type": "code",
   "execution_count": 6,
   "id": "447a35d8",
   "metadata": {},
   "outputs": [],
   "source": [
    "#import napari\n",
    "import numpy as np\n",
    "import scipy.ndimage as ndimage\n",
    "import matplotlib.pyplot as plt\n",
    "from skimage import io\n",
    "import glob\n",
    "from skimage.filters import threshold_local\n",
    "from skimage.filters import threshold_li\n",
    "from skimage.color import rgb2gray\n",
    "from math import sqrt\n",
    "from skimage.morphology import disk, ball\n",
    "from skimage.feature import blob_dog, blob_log, blob_doh\n",
    "from skimage.filters.rank import enhance_contrast\n",
    "from skimage.exposure import adjust_gamma\n",
    "import pickle as pkl\n",
    "import sys\n",
    "from datetime import date\n",
    "import os, psutil\n",
    "import re\n",
    "process = psutil.Process(os.getpid())\n",
    "# Grab utilities from the imaging directories dir\n",
    "utilsDir = re.sub(r'Registration', 'Imaging Utilities', str(sys.path[0]))\n",
    "# Homebrew utilities for importing ims files & basic image manipulation\n",
    "sys.path.append(utilsDir)\n",
    "from functools import reduce\n",
    "from scipy.spatial.distance import cdist, pdist\n",
    "from skimage.exposure import rescale_intensity\n",
    "from skimage.segmentation import find_boundaries\n",
    "\n",
    "def spotcall(img, min_sig, max_sig, nsig, th):\n",
    "    blobs_log = blob_log(img, min_sigma=min_sig, max_sigma=max_sig, num_sigma=nsig, threshold=th)\n",
    "    # Compute radii in the 3rd column.\n",
    "    blobs_log[:, 2] = blobs_log[:, 2] * sqrt(2)\n",
    "    color = 'lime'\n",
    "    title = 'Laplacian of Gaussian'\n",
    "    return blobs_log"
   ]
  },
  {
   "cell_type": "markdown",
   "id": "80b8815f",
   "metadata": {},
   "source": [
    "# 1. File import\n"
   ]
  },
  {
   "cell_type": "code",
   "execution_count": 8,
   "id": "a3111674",
   "metadata": {},
   "outputs": [
    {
     "name": "stdout",
     "output_type": "stream",
     "text": [
      "20240429_NTFP_2mix_D3\n",
      "/mnt/disks/external/jg4159/20240429_NTFP_2mix/RegisteredImages_Ab_20240429_NTFP_2mix_D3.pkl\n",
      "/mnt/disks/external/jg4159/20240429_NTFP_2mix/Unfiltered_segmentation_20240429_NTFP_2mix_D3_105_140_130_200_40_920.pickle\n",
      "20240429_NTFP_2mix_D3\n"
     ]
    }
   ],
   "source": [
    "opdir = \"/mnt/disks/external/jg4159/20240429_NTFP_2mix/\"\n",
    "ip = opdir + 'RegisteredImages_Ab_20240429_NTFP_2mix_D3.pkl'\n",
    "runName = \"20240429_NTFP_2mix_D3\"\n",
    "print(runName)\n",
    "mk = opdir + \"Unfiltered_segmentation_20240429_NTFP_2mix_D3_105_140_130_200_40_920.pickle\" #path to masks\n",
    "print(ip)\n",
    "print(mk)\n",
    "print(runName)"
   ]
  },
  {
   "cell_type": "code",
   "execution_count": 9,
   "id": "393d8c72",
   "metadata": {},
   "outputs": [
    {
     "name": "stdout",
     "output_type": "stream",
     "text": [
      "920\n"
     ]
    }
   ],
   "source": [
    "import glob\n",
    "#Loading ims files for different cycles\n",
    "lof = glob.glob(mk)\n",
    "filehandler = open(lof[0], 'rb')\n",
    "masks_mem, masks_nuc, ref_mem = pkl.load(filehandler)\n",
    "print(len(ref_mem))\n",
    "filehandler.close()"
   ]
  },
  {
   "cell_type": "code",
   "execution_count": 10,
   "id": "12c71702",
   "metadata": {},
   "outputs": [],
   "source": [
    "# import registered image stack\n",
    "filehandler = open(ip, 'rb')\n",
    "img_stack_all = pkl.load(filehandler)\n",
    "filehandler.close()"
   ]
  },
  {
   "cell_type": "code",
   "execution_count": 11,
   "id": "7ee461b5",
   "metadata": {},
   "outputs": [
    {
     "name": "stdout",
     "output_type": "stream",
     "text": [
      "[113. 143.]\n",
      "[115. 143.]\n",
      "[457. 844.]\n",
      "[111. 158.]\n",
      "[129. 247.]\n",
      "[413. 763.]\n",
      "[150. 331.]\n",
      "[120. 265.]\n",
      "[402. 728.]\n"
     ]
    }
   ],
   "source": [
    "for img in img_stack_all[1:]:\n",
    "    for i in range(img.shape[0]):\n",
    "        img[i] *= 65535\n",
    "        img[i] = img[i].astype(np.uint16)\n",
    "        m = np.median(img[i][img[i] > 0])\n",
    "        print(np.percentile(img[i], (97.5, 99.8)))"
   ]
  },
  {
   "cell_type": "code",
   "execution_count": 12,
   "id": "25bd5932",
   "metadata": {},
   "outputs": [
    {
     "name": "stdout",
     "output_type": "stream",
     "text": [
      "3\n"
     ]
    }
   ],
   "source": [
    "# get the CRISPRmap rounds\n",
    "img_stack = img_stack_all[1:5]\n",
    "print(len(img_stack))"
   ]
  },
  {
   "cell_type": "code",
   "execution_count": 13,
   "id": "3d46ec14",
   "metadata": {},
   "outputs": [
    {
     "name": "stdout",
     "output_type": "stream",
     "text": [
      "4\n"
     ]
    }
   ],
   "source": [
    "# get the antibody rounds\n",
    "GFP_stack = img_stack_all[0]\n",
    "print(len(GFP_stack))"
   ]
  },
  {
   "cell_type": "code",
   "execution_count": 15,
   "id": "0138140d",
   "metadata": {},
   "outputs": [],
   "source": [
    "num_chn = 2\n",
    "num_cyc = 3\n",
    "# threshold the CM rounds\n",
    "gamstack=[]\n",
    "for i in range(num_cyc):\n",
    "        for j in range(num_chn):\n",
    "            if (j==0): #640\n",
    "                gamstack.append(rescale_intensity(img_stack[i][j].astype('float64'), (120,150), (0, 255)))\n",
    "            else: #488\n",
    "                gamstack.append(rescale_intensity(img_stack[i][j].astype('float64'),(120,150), (0, 255)))"
   ]
  },
  {
   "cell_type": "markdown",
   "id": "4c25c4bb",
   "metadata": {},
   "source": [
    "# 2. Generate 2D masks\n",
    "* Code adapted from Ben Wesley in the Gaublomme lab"
   ]
  },
  {
   "cell_type": "code",
   "execution_count": 16,
   "id": "cd882d4e",
   "metadata": {},
   "outputs": [
    {
     "name": "stdout",
     "output_type": "stream",
     "text": [
      "Finished Membrane 0\n",
      "--- ref_mem conversion to 2D: 82.92099046707153 seconds\n"
     ]
    }
   ],
   "source": [
    "# Generate 2D masks\n",
    "import time\n",
    "start_time = time.time()\n",
    "\n",
    "# Convert ref_mem to 2Dimensional coordinates\n",
    "nuclei_mask = np.zeros(masks_nuc.shape)\n",
    "membrane_mask = np.zeros(masks_mem.shape)\n",
    "nucMask_flat = nuclei_mask.ravel()\n",
    "memMask_flat = membrane_mask.ravel()\n",
    "\n",
    "for i, cellID in enumerate(ref_mem):\n",
    "    nuc_id = ref_mem[cellID][\"nuc_id\"]\n",
    "    nucMask_flat[ref_mem[cellID][\"Nuclei Pixels\"]] = nuc_id\n",
    "    ref_mem[cellID]['Nuclei Pixels 2D'] = np.where(nuclei_mask==nuc_id)\n",
    "    memMask_flat[ref_mem[cellID]['Membrane Pixels']] = cellID\n",
    "    ref_mem[cellID]['Membrane Pixels 2D'] = np.where(membrane_mask==cellID)\n",
    "    if i%1000==0:\n",
    "        print(f\"Finished Membrane {i}\")\n",
    "print(f'--- ref_mem conversion to 2D: {(time.time()-start_time)} seconds')\n",
    "filehandler = open(opdir+\"Unfiltered_segmentation_2D_reverse_\" + runName +\".pickle\", 'wb')\n",
    "pkl.dump((masks_mem, masks_nuc, ref_mem), filehandler)\n",
    "filehandler.close()"
   ]
  },
  {
   "cell_type": "code",
   "execution_count": 17,
   "id": "2b2ef50d",
   "metadata": {},
   "outputs": [
    {
     "name": "stdout",
     "output_type": "stream",
     "text": [
      "Exists!\n"
     ]
    }
   ],
   "source": [
    "# check if memMaskgd exists\n",
    "try:\n",
    "    filehandler = open(opdir+'memMaskgd0_reverse_' + runName + '.pkl', 'rb')\n",
    "    memMaskgd0 = pkl.load(filehandler)\n",
    "    filehandler.close()\n",
    "except:\n",
    "    memMaskgd_exists = False\n",
    "else:\n",
    "    print(\"Exists!\")\n",
    "    memMaskgd_exists = True\n",
    "# make config if it does not exist already (e.g. passed in by papermill) for manual running\n",
    "if not(memMaskgd_exists):\n",
    "    start_time = time.time()\n",
    "    memMaskgd0 = {}\n",
    "    i=0\n",
    "    for key in ref_mem.keys():\n",
    "        if i%1000==0:\n",
    "            print(i)\n",
    "        i=i+1\n",
    "        spgd={}\n",
    "        x0 = ref_mem[key][\"Membrane Pixels 2D\"][0]\n",
    "        y0 = ref_mem[key][\"Membrane Pixels 2D\"][1]\n",
    "        cellset = set([tuple([x,y]) for x,y in zip(x0,y0)]) #save all pixels for this cell\\n\",\n",
    "        spgd['cellset']=cellset\n",
    "        memMaskgd0[key] = spgd\n",
    "    print(f'--- generate memeMaskgd0: {(time.time()-start_time)} seconds')\n",
    "    filehandler = open(opdir+'memMaskgd0_reverse_' + runName + '.pkl', 'wb')\n",
    "    pkl.dump(memMaskgd0, filehandler)\n",
    "    filehandler.close()"
   ]
  },
  {
   "cell_type": "code",
   "execution_count": 18,
   "id": "83b0fc6b",
   "metadata": {},
   "outputs": [
    {
     "data": {
      "text/html": [
       "<div>\n",
       "<style scoped>\n",
       "    .dataframe tbody tr th:only-of-type {\n",
       "        vertical-align: middle;\n",
       "    }\n",
       "\n",
       "    .dataframe tbody tr th {\n",
       "        vertical-align: top;\n",
       "    }\n",
       "\n",
       "    .dataframe thead th {\n",
       "        text-align: right;\n",
       "    }\n",
       "</style>\n",
       "<table border=\"1\" class=\"dataframe\">\n",
       "  <thead>\n",
       "    <tr style=\"text-align: right;\">\n",
       "      <th></th>\n",
       "      <th>0</th>\n",
       "      <th>1</th>\n",
       "      <th>2</th>\n",
       "      <th>3</th>\n",
       "      <th>4</th>\n",
       "      <th>5</th>\n",
       "    </tr>\n",
       "  </thead>\n",
       "  <tbody>\n",
       "    <tr>\n",
       "      <th>1</th>\n",
       "      <td>0</td>\n",
       "      <td>0</td>\n",
       "      <td>0</td>\n",
       "      <td>0</td>\n",
       "      <td>0</td>\n",
       "      <td>0</td>\n",
       "    </tr>\n",
       "    <tr>\n",
       "      <th>3</th>\n",
       "      <td>0</td>\n",
       "      <td>0</td>\n",
       "      <td>0</td>\n",
       "      <td>0</td>\n",
       "      <td>0</td>\n",
       "      <td>0</td>\n",
       "    </tr>\n",
       "    <tr>\n",
       "      <th>4</th>\n",
       "      <td>0</td>\n",
       "      <td>0</td>\n",
       "      <td>0</td>\n",
       "      <td>0</td>\n",
       "      <td>0</td>\n",
       "      <td>0</td>\n",
       "    </tr>\n",
       "    <tr>\n",
       "      <th>6</th>\n",
       "      <td>0</td>\n",
       "      <td>0</td>\n",
       "      <td>0</td>\n",
       "      <td>0</td>\n",
       "      <td>0</td>\n",
       "      <td>0</td>\n",
       "    </tr>\n",
       "    <tr>\n",
       "      <th>9</th>\n",
       "      <td>0</td>\n",
       "      <td>0</td>\n",
       "      <td>0</td>\n",
       "      <td>0</td>\n",
       "      <td>0</td>\n",
       "      <td>0</td>\n",
       "    </tr>\n",
       "    <tr>\n",
       "      <th>...</th>\n",
       "      <td>...</td>\n",
       "      <td>...</td>\n",
       "      <td>...</td>\n",
       "      <td>...</td>\n",
       "      <td>...</td>\n",
       "      <td>...</td>\n",
       "    </tr>\n",
       "    <tr>\n",
       "      <th>1179</th>\n",
       "      <td>0</td>\n",
       "      <td>0</td>\n",
       "      <td>0</td>\n",
       "      <td>0</td>\n",
       "      <td>0</td>\n",
       "      <td>0</td>\n",
       "    </tr>\n",
       "    <tr>\n",
       "      <th>1181</th>\n",
       "      <td>0</td>\n",
       "      <td>0</td>\n",
       "      <td>0</td>\n",
       "      <td>0</td>\n",
       "      <td>0</td>\n",
       "      <td>0</td>\n",
       "    </tr>\n",
       "    <tr>\n",
       "      <th>1183</th>\n",
       "      <td>0</td>\n",
       "      <td>0</td>\n",
       "      <td>0</td>\n",
       "      <td>0</td>\n",
       "      <td>0</td>\n",
       "      <td>0</td>\n",
       "    </tr>\n",
       "    <tr>\n",
       "      <th>1184</th>\n",
       "      <td>0</td>\n",
       "      <td>0</td>\n",
       "      <td>0</td>\n",
       "      <td>0</td>\n",
       "      <td>0</td>\n",
       "      <td>0</td>\n",
       "    </tr>\n",
       "    <tr>\n",
       "      <th>1185</th>\n",
       "      <td>0</td>\n",
       "      <td>0</td>\n",
       "      <td>0</td>\n",
       "      <td>0</td>\n",
       "      <td>0</td>\n",
       "      <td>0</td>\n",
       "    </tr>\n",
       "  </tbody>\n",
       "</table>\n",
       "<p>920 rows × 6 columns</p>\n",
       "</div>"
      ],
      "text/plain": [
       "      0  1  2  3  4  5\n",
       "1     0  0  0  0  0  0\n",
       "3     0  0  0  0  0  0\n",
       "4     0  0  0  0  0  0\n",
       "6     0  0  0  0  0  0\n",
       "9     0  0  0  0  0  0\n",
       "...  .. .. .. .. .. ..\n",
       "1179  0  0  0  0  0  0\n",
       "1181  0  0  0  0  0  0\n",
       "1183  0  0  0  0  0  0\n",
       "1184  0  0  0  0  0  0\n",
       "1185  0  0  0  0  0  0\n",
       "\n",
       "[920 rows x 6 columns]"
      ]
     },
     "execution_count": 18,
     "metadata": {},
     "output_type": "execute_result"
    }
   ],
   "source": [
    "import pandas as pd\n",
    "spot_df = pd.DataFrame(0,columns = range(len(gamstack)), \n",
    "                   index = memMaskgd0.keys())\n",
    "spot_df"
   ]
  },
  {
   "cell_type": "markdown",
   "id": "3fc1e068",
   "metadata": {},
   "source": [
    "# 3. Spot calling for CRISPRmap amplicons"
   ]
  },
  {
   "cell_type": "code",
   "execution_count": 19,
   "id": "ddd67496",
   "metadata": {},
   "outputs": [
    {
     "name": "stdout",
     "output_type": "stream",
     "text": [
      "Cycle 1, channel0:\n"
     ]
    },
    {
     "name": "stderr",
     "output_type": "stream",
     "text": [
      "/mnt/disks/external/jg4159/.conda/envs/cellpose/lib/python3.7/site-packages/skimage/feature/blob.py:125: RuntimeWarning: invalid value encountered in double_scalars\n",
      "  r1 = blob1[-1] / blob2[-1]\n",
      "/mnt/disks/external/jg4159/.conda/envs/cellpose/lib/python3.7/site-packages/skimage/feature/blob.py:126: RuntimeWarning: divide by zero encountered in true_divide\n",
      "  pos1 = blob1[:ndim] / (max_sigma * root_ndim)\n",
      "/mnt/disks/external/jg4159/.conda/envs/cellpose/lib/python3.7/site-packages/skimage/feature/blob.py:127: RuntimeWarning: divide by zero encountered in true_divide\n",
      "  pos2 = blob2[:ndim] / (max_sigma * root_ndim)\n",
      "/mnt/disks/external/jg4159/.conda/envs/cellpose/lib/python3.7/site-packages/skimage/feature/blob.py:129: RuntimeWarning: invalid value encountered in subtract\n",
      "  d = np.sqrt(np.sum((pos2 - pos1)**2))\n"
     ]
    },
    {
     "name": "stdout",
     "output_type": "stream",
     "text": [
      "18819\n",
      "Retained spots above background: 13524\n",
      "Cycle 1, channel1:\n",
      "25713\n",
      "Retained spots above background: 16373\n",
      "Cycle 1, channel2:\n",
      "22911\n",
      "Retained spots above background: 15801\n",
      "Cycle 2, channel0:\n",
      "43799\n",
      "Retained spots above background: 30774\n",
      "Cycle 2, channel1:\n",
      "44439\n",
      "Retained spots above background: 31226\n",
      "Cycle 2, channel2:\n",
      "30571\n",
      "Retained spots above background: 19283\n",
      "Total # of spots: 126981\n",
      "Total # of unique spots: 82185\n",
      "--- 12.801262855529785 seconds ---\n"
     ]
    }
   ],
   "source": [
    "\n",
    "import time\n",
    "start_time = time.time()\n",
    "\n",
    "all_spots = np.zeros(shape=(0,3))\n",
    "total_spots_cycle = []\n",
    "retained_spots_cycle = []\n",
    "spotlist = []\n",
    "\n",
    "bkg_spot_th = 2\n",
    "#file2.write(f\"background removal threshold: {bkg_spot_th}\\n\")\n",
    "\n",
    "cyc=0\n",
    "\n",
    "for img in gamstack:\n",
    "    print(\"Cycle \" + str(cyc//3+1)+ \", channel\" + str(cyc%3) + \":\")\n",
    "    #file2.write(f\"Cycle {cyc//3+1}, channel {cyc%3}:\\n\")\n",
    "    spots = spotcall(img[:,:],min_sig=2,max_sig=10,nsig=1,th=0.5)# Decrease threshold if spots are not identified and min sigma if spots are smaller\\n\",\n",
    "    print(len(spots))\n",
    "    #file2.write(f\"total spots: {len(spots)}\\n\")\n",
    "    spotset = set([tuple(x) for x in spots[:,:2].astype(int)])\n",
    "    retained_spots= []\n",
    "    num_retained = 0\n",
    "    #mask_cyc={}\n",
    "    for key, values in memMaskgd0.items():\n",
    "        cellset=memMaskgd0[key][\"cellset\"]  # all 2d pixel positions for this mem id    \n",
    "        spcell = np.array([[x[0],x[1],1] for x in spotset & cellset]) # find pixels (i.e. spots) that are in both spotset & cellset\n",
    "        spot_df.loc[key, cyc] = len(spcell)\n",
    "        if len(spcell) >= bkg_spot_th:\n",
    "            num_retained = num_retained + len(spcell)\n",
    "            #mask_cyc[key] = spcell\n",
    "            spcell = spcell.tolist()\n",
    "            retained_spots.extend(spcell)\n",
    "    print(\"Retained spots above background: \"+str(len(retained_spots)))\n",
    "    #file2.write(f\"Retained spots above background: {len(retained_spots)}\\n\")\n",
    "    spotlist.append(np.array(retained_spots))\n",
    "\n",
    "    total_spots_cycle.append(len(spots))\n",
    "    retained_spots_cycle.append(len(retained_spots))\n",
    "    all_spots = np.concatenate((all_spots, retained_spots), axis=0)\n",
    "    cyc=cyc+1\n",
    "\n",
    "total_spots = all_spots.shape[0]\n",
    "print(\"Total # of spots:\", total_spots)\n",
    "#file2.write(f\"Total # of spots: {total_spots}\\n\")\n",
    "all_spots = np.unique(all_spots, axis=0)\n",
    "print(\"Total # of unique spots:\", all_spots.shape[0])\n",
    "#file2.write(f\"Total # of unique spots: {all_spots.shape[0]}\\n\")\n",
    "total_spots = all_spots.shape[0]\n",
    "print(\"--- %s seconds ---\" % (time.time() - start_time))\n",
    "#file2.write(f\"--- %s seconds --- {time.time() - start_time}\\n\")"
   ]
  },
  {
   "cell_type": "code",
   "execution_count": 20,
   "id": "029a5fa0",
   "metadata": {},
   "outputs": [],
   "source": [
    "filehandler = open(opdir+'Spotcalling_spotlist_' + str(total_spots) + \"_\" + runName + '.pkl', 'wb')\n",
    "pkl.dump(spotlist, filehandler)\n",
    "filehandler.close()\n",
    "\n",
    "filehandler = open(opdir+'Spotcalling_allspots_' + str(total_spots) + \"_\"  + runName + '.pkl', 'wb')\n",
    "pkl.dump(all_spots, filehandler)\n",
    "filehandler.close()\n",
    "\n",
    "spot_df.to_csv(opdir+runName+'_'+str(total_spots)+'_spotbycycle.csv')"
   ]
  },
  {
   "cell_type": "markdown",
   "id": "c807e071",
   "metadata": {},
   "source": [
    "# 4. Query codebook for guide identification\n",
    "\n",
    "* Code adapted from Abhishek lyer in the Gaublomme Lab"
   ]
  },
  {
   "cell_type": "code",
   "execution_count": 21,
   "id": "9d202b67",
   "metadata": {},
   "outputs": [
    {
     "name": "stdout",
     "output_type": "stream",
     "text": [
      "      R0  R1  R2  R3  R4  R5\n",
      "Gene                        \n",
      "NT_3   1   1   0   1   1   0\n",
      "NT_4   0   0   1   1   1   1\n",
      "UA_1   0   1   1   1   1   0\n",
      "UA_2   1   0   0   1   1   1\n",
      "(6,)\n"
     ]
    }
   ],
   "source": [
    "import pandas as pd\n",
    "codebook = '/mnt/disks/external/jg4159/BEpilot/NTFP_2mix_codebook.csv'\n",
    "cb = pd.read_csv(codebook, sep=',', header=0, index_col='Gene')\n",
    "print(cb)\n",
    "cb_list = np.asarray(cb.values.tolist(),dtype=bool)\n",
    "genes = cb.index.tolist()\n",
    "print(np.asarray(cb_list[0]).shape)"
   ]
  },
  {
   "cell_type": "code",
   "execution_count": 22,
   "id": "3a6c7308",
   "metadata": {},
   "outputs": [],
   "source": [
    "xmax = gamstack[0].shape[0]\n",
    "ymax = gamstack[0].shape[1]\n",
    "del gamstack"
   ]
  },
  {
   "cell_type": "code",
   "execution_count": 23,
   "id": "7f160a5f",
   "metadata": {},
   "outputs": [],
   "source": [
    "spotset=[]\n",
    "for j in spotlist:\n",
    "    spotset.append(set([tuple(x) for x in j[:,:2]]))"
   ]
  },
  {
   "cell_type": "code",
   "execution_count": 24,
   "id": "961ffc8e",
   "metadata": {},
   "outputs": [
    {
     "name": "stdout",
     "output_type": "stream",
     "text": [
      "4\n",
      "0\n",
      "--- 107.95491003990173 seconds ---\n",
      "4\n",
      "0\n",
      "1\n",
      "2\n",
      "3\n",
      "Total guide spots:  46630\n",
      "Guide spots/Total spots: 46630 / 82185 = 0.5673784753908864\n",
      "--- 17.397464752197266 seconds ---\n"
     ]
    }
   ],
   "source": [
    "num_chn=2\n",
    "num_cyc=3\n",
    "num_pxl_list=[4]#0,0.5,1,1.5,2,2.5,3,3.5,4\n",
    "guide_spots_list=[]\n",
    "\n",
    "for num_pxl in num_pxl_list:    \n",
    "    print(num_pxl)\n",
    "    import time\n",
    "    start_time = time.time()\n",
    "\n",
    "    ## Guide detection, generating the bitcode by searching the spot pixel in all cycles within a given radius\n",
    "    cycles = np.zeros((all_spots.shape[0],num_chn*num_cyc),dtype=bool)\n",
    "    for i in range(all_spots.shape[0]): #all_spots.shape[0]\n",
    "        if i%100000==0:\n",
    "            print(i)\n",
    "        k = 0\n",
    "        # create a potential set\n",
    "        spot_i = np.reshape(all_spots[i,:2],[1,2])[0]\n",
    "        #print(spot_i)\n",
    "        grid = []\n",
    "        for dx in range(5):\n",
    "            for dy in range(5):\n",
    "                coord1 = tuple([np.max([0,spot_i[0]-dx]).astype(int), np.max([0,spot_i[1]-dy]).astype(int)])\n",
    "                #print(coord1)\n",
    "                grid.append(coord1)\n",
    "                coord2 = tuple([np.min([xmax, spot_i[0]+dx]).astype(int), np.min([ymax, spot_i[1]+dy]).astype(int)])\n",
    "                #print(coord2)\n",
    "                grid.append(coord2)\n",
    "                coord3 = tuple([np.max([0, spot_i[0]-dx]).astype(int), np.min([ymax, spot_i[1]+dy]).astype(int)])\n",
    "                grid.append(coord3)\n",
    "                coord4 = tuple([np.min([xmax, spot_i[0]+dx]).astype(int), np.max([0, spot_i[1]-dy]).astype(int)])\n",
    "                grid.append(coord4)\n",
    "        grid = set(grid)\n",
    "        #print(grid)\n",
    "        #break\n",
    "        \n",
    "        for j in spotset: \n",
    "            # give the radius is three, we can pre-set a coordinate set\n",
    "            # find spots that fall within the grid, calculate distance if any\n",
    "            spcell = np.array([[x[0],x[1]] for x in grid & j])\n",
    "            if len(spcell>0):\n",
    "                #print(spcell)\n",
    "                a = cdist(np.reshape(all_spots[i,:2],[1,2]), spcell, metric='euclidean')\n",
    "                #print(a)\n",
    "                if np.min(a) < num_pxl: # less than num_pxl pixels \n",
    "                    cycles[i,k]=1\n",
    "            k = k+1\n",
    "        #print(cycles[i,:])\n",
    "    print(\"--- %s seconds ---\" % (time.time() - start_time))\n",
    "\n",
    "# de-duplicaton\n",
    "    start_time = time.time()\n",
    "    spotdict = {}\n",
    "    guide_spots=0\n",
    "    print(len(cb_list))\n",
    "    for j in range(len(cb_list)):\n",
    "        print(j)\n",
    "        k = 0\n",
    "        abc = []\n",
    "        dedup = []\n",
    "        for i in range(0, cycles.shape[0]):\n",
    "            if np.array_equal(cycles[i,:], np.asarray(cb_list[j])):\n",
    "                k=k+1\n",
    "                abc.append(all_spots[i])\n",
    "        spotcycle = np.asarray(abc)\n",
    "        for sp in range(spotcycle.shape[0]):\n",
    "            a = cdist(np.reshape(spotcycle[sp,:2],[1,2]), spotcycle[:,:2], metric='euclidean')#distance\n",
    "            if len(np.where(a<num_pxl)[1]) > 1:\n",
    "                dedup.append(spotcycle[np.where(a<num_pxl)[1][0],:])\n",
    "            else:\n",
    "                dedup.append(spotcycle[sp,:])\n",
    "        #print(dedup)\n",
    "        #print(np.unique(np.asarray(dedup),axis=0).shape)\n",
    "        spotdict[genes[j]] = np.unique(np.asarray(dedup),axis=0)\n",
    "        guide_spots = guide_spots + len(dedup)\n",
    "        #print(\"gene: \"+genes[j]+'\\tcount: '+str(len(dedup)))\n",
    "    print(\"Total guide spots: \", guide_spots)\n",
    "    #file2.write(f\"Total guide spots: {guide_spots}\\n\")\n",
    "    print(\"Guide spots/Total spots:\", guide_spots, '/', total_spots, '=', guide_spots/total_spots)\n",
    "    #file2.write(f\"Guide spots/Total spots: {guide_spots} / {total_spots} = {guide_spots/total_spots}\\n\")\n",
    "    guide_spots_list.append(guide_spots)\n",
    "    print(\"--- %s seconds ---\" % (time.time() - start_time))\n",
    "    #file2.write(f\"--- %s seconds --- {time.time() - start_time}\\n\")\n",
    "    # Save max projection images for next step in pipeline\n",
    "    filehandler = open(opdir+'Spots-with-dist-OPT_numpxl='+str(num_pxl)+\"_\"+str(guide_spots)+\"_\" + runName + '.pkl', 'wb')\n",
    "    pkl.dump(spotdict, filehandler)\n",
    "    filehandler.close()"
   ]
  },
  {
   "cell_type": "markdown",
   "id": "8e6b1a4a",
   "metadata": {},
   "source": [
    "# 5. Assign decoded barcodes to cell masks"
   ]
  },
  {
   "cell_type": "code",
   "execution_count": 25,
   "id": "1558d9c4",
   "metadata": {},
   "outputs": [
    {
     "name": "stdout",
     "output_type": "stream",
     "text": [
      "858\n",
      "0.9326086956521739\n"
     ]
    },
    {
     "name": "stderr",
     "output_type": "stream",
     "text": [
      "/mnt/disks/external/jg4159/.conda/envs/cellpose/lib/python3.7/site-packages/ipykernel_launcher.py:34: RuntimeWarning: invalid value encountered in long_scalars\n"
     ]
    }
   ],
   "source": [
    "        # Create a dictionary where every key is a foci coordinate, and the value is the guide identity\n",
    "        spotMatch = {}\n",
    "        names = list(spotdict.keys())\n",
    "        for i, guide in enumerate(spotdict):\n",
    "            for spot in spotdict[guide]:\n",
    "                if spotMatch.get((spot[0], spot[1])):\n",
    "                    spotMatch[(spot[0], spot[1])].append(names[i])\n",
    "                else:\n",
    "                    spotMatch[(spot[0], spot[1])] = [names[i]]\n",
    "\n",
    "        # create an empty dataframe with cell_id and guide names\n",
    "        mem_df = pd.DataFrame(0,columns = spotdict.keys(), \n",
    "                           index = memMaskgd0.keys())        \n",
    "\n",
    "        # For each nuclei, see which spots in the membrane are indexed in the key \n",
    "        for i, cellID in enumerate(memMaskgd0):\n",
    "            for name in names:\n",
    "                memMaskgd0[cellID][name] = 0\n",
    "\n",
    "            # For each Mmebrane Coordinate set, look for a spot\n",
    "            memCoord = memMaskgd0[cellID]['cellset']\n",
    "            for coord in memCoord:\n",
    "                amplicons = spotMatch.get(coord)\n",
    "                if amplicons:\n",
    "                    for amplicon in amplicons:\n",
    "                        memMaskgd0[cellID][amplicon] += 1\n",
    "                        mem_df.loc[cellID,amplicon] += 1\n",
    "\n",
    "        mem_max = mem_df.max(axis='columns') # guide with the max num of spots\n",
    "        mem_sec = mem_df.apply(lambda x: x.nlargest(2).iloc[1], axis=1)\n",
    "        max_idx = mem_df.idxmax(axis=1)\n",
    "        guide_num = 0\n",
    "        for i, cellID in enumerate(ref_mem):\n",
    "            guide_spot_ratio = mem_max[cellID]/(mem_max[cellID] + mem_sec[cellID]) # guide purity\n",
    "            if mem_max[cellID] >= 3 and guide_spot_ratio >= 0.66:\n",
    "                ref_mem[cellID]['Guide ID'] = max_idx[cellID]\n",
    "                guide_num = guide_num + 1\n",
    "            else:\n",
    "                ref_mem[cellID]['Guide ID'] = \"None\"\n",
    "        print(guide_num)\n",
    "        print(guide_num/len(ref_mem))\n",
    "        mem_df.to_csv(opdir+runName+'_GFP_'+str(guide_spots)+\"spots_\"+str(guide_num)+'cells_cell2guide.csv')"
   ]
  },
  {
   "cell_type": "code",
   "execution_count": 26,
   "id": "44aa98c9",
   "metadata": {},
   "outputs": [
    {
     "data": {
      "text/html": [
       "<div>\n",
       "<style scoped>\n",
       "    .dataframe tbody tr th:only-of-type {\n",
       "        vertical-align: middle;\n",
       "    }\n",
       "\n",
       "    .dataframe tbody tr th {\n",
       "        vertical-align: top;\n",
       "    }\n",
       "\n",
       "    .dataframe thead th {\n",
       "        text-align: right;\n",
       "    }\n",
       "</style>\n",
       "<table border=\"1\" class=\"dataframe\">\n",
       "  <thead>\n",
       "    <tr style=\"text-align: right;\">\n",
       "      <th></th>\n",
       "      <th>NT_3</th>\n",
       "      <th>NT_4</th>\n",
       "      <th>UA_1</th>\n",
       "      <th>UA_2</th>\n",
       "    </tr>\n",
       "  </thead>\n",
       "  <tbody>\n",
       "    <tr>\n",
       "      <th>1</th>\n",
       "      <td>0</td>\n",
       "      <td>2</td>\n",
       "      <td>0</td>\n",
       "      <td>0</td>\n",
       "    </tr>\n",
       "    <tr>\n",
       "      <th>3</th>\n",
       "      <td>4</td>\n",
       "      <td>0</td>\n",
       "      <td>0</td>\n",
       "      <td>0</td>\n",
       "    </tr>\n",
       "    <tr>\n",
       "      <th>4</th>\n",
       "      <td>2</td>\n",
       "      <td>0</td>\n",
       "      <td>0</td>\n",
       "      <td>0</td>\n",
       "    </tr>\n",
       "    <tr>\n",
       "      <th>6</th>\n",
       "      <td>0</td>\n",
       "      <td>13</td>\n",
       "      <td>0</td>\n",
       "      <td>0</td>\n",
       "    </tr>\n",
       "    <tr>\n",
       "      <th>9</th>\n",
       "      <td>0</td>\n",
       "      <td>5</td>\n",
       "      <td>0</td>\n",
       "      <td>0</td>\n",
       "    </tr>\n",
       "    <tr>\n",
       "      <th>...</th>\n",
       "      <td>...</td>\n",
       "      <td>...</td>\n",
       "      <td>...</td>\n",
       "      <td>...</td>\n",
       "    </tr>\n",
       "    <tr>\n",
       "      <th>1179</th>\n",
       "      <td>5</td>\n",
       "      <td>2</td>\n",
       "      <td>0</td>\n",
       "      <td>0</td>\n",
       "    </tr>\n",
       "    <tr>\n",
       "      <th>1181</th>\n",
       "      <td>13</td>\n",
       "      <td>0</td>\n",
       "      <td>0</td>\n",
       "      <td>1</td>\n",
       "    </tr>\n",
       "    <tr>\n",
       "      <th>1183</th>\n",
       "      <td>10</td>\n",
       "      <td>0</td>\n",
       "      <td>0</td>\n",
       "      <td>0</td>\n",
       "    </tr>\n",
       "    <tr>\n",
       "      <th>1184</th>\n",
       "      <td>1</td>\n",
       "      <td>5</td>\n",
       "      <td>0</td>\n",
       "      <td>0</td>\n",
       "    </tr>\n",
       "    <tr>\n",
       "      <th>1185</th>\n",
       "      <td>2</td>\n",
       "      <td>0</td>\n",
       "      <td>0</td>\n",
       "      <td>0</td>\n",
       "    </tr>\n",
       "  </tbody>\n",
       "</table>\n",
       "<p>920 rows × 4 columns</p>\n",
       "</div>"
      ],
      "text/plain": [
       "      NT_3  NT_4  UA_1  UA_2\n",
       "1        0     2     0     0\n",
       "3        4     0     0     0\n",
       "4        2     0     0     0\n",
       "6        0    13     0     0\n",
       "9        0     5     0     0\n",
       "...    ...   ...   ...   ...\n",
       "1179     5     2     0     0\n",
       "1181    13     0     0     1\n",
       "1183    10     0     0     0\n",
       "1184     1     5     0     0\n",
       "1185     2     0     0     0\n",
       "\n",
       "[920 rows x 4 columns]"
      ]
     },
     "execution_count": 26,
     "metadata": {},
     "output_type": "execute_result"
    }
   ],
   "source": [
    "mem_df"
   ]
  }
 ],
 "metadata": {
  "kernelspec": {
   "display_name": "Python 3",
   "language": "python",
   "name": "python3"
  },
  "language_info": {
   "codemirror_mode": {
    "name": "ipython",
    "version": 3
   },
   "file_extension": ".py",
   "mimetype": "text/x-python",
   "name": "python",
   "nbconvert_exporter": "python",
   "pygments_lexer": "ipython3",
   "version": "3.7.10"
  }
 },
 "nbformat": 4,
 "nbformat_minor": 5
}
